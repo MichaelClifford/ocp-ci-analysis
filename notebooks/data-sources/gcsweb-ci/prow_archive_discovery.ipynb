{
 "cells": [
  {
   "cell_type": "markdown",
   "id": "prescription-management",
   "metadata": {},
   "source": [
    "# Prow Logs and GCS Data"
   ]
  },
  {
   "cell_type": "code",
   "execution_count": 1,
   "id": "tight-mortgage",
   "metadata": {},
   "outputs": [],
   "source": [
    "import gzip\n",
    "import json\n",
    "import requests\n",
    "import pandas as pd\n",
    "from bs4 import BeautifulSoup"
   ]
  },
  {
   "cell_type": "markdown",
   "id": "bigger-drinking",
   "metadata": {},
   "source": [
    "### What do we have access to as data scientists when digging into the build artifacts?\n",
    "\n",
    "In this notebook we want to determine how to interact with the availble data on GCS. We will provide some EDA and perfrom 2 different tasks.\n",
    "\n",
    "\n",
    "1. Compare the different log files present throughout the archives and quantify how complete and compareable our log dataset is.\n",
    "1. Download a small sample dataset of events and build logs to perform some EDA on.  \n"
   ]
  },
  {
   "cell_type": "code",
   "execution_count": 2,
   "id": "located-imagination",
   "metadata": {},
   "outputs": [],
   "source": [
    "# Load test file to access our record of job names\n",
    "with gzip.open(\"../../../data/raw/testgrid_810.json.gz\", \"rb\") as read_file:\n",
    "    testgrid_data = json.load(read_file)"
   ]
  },
  {
   "cell_type": "markdown",
   "id": "dietary-conflict",
   "metadata": {},
   "source": [
    "### Example to access a single prow artifacts page\n",
    "\n",
    "Let's make sure we understand how this works, and focus on a single job first."
   ]
  },
  {
   "cell_type": "code",
   "execution_count": 3,
   "id": "unknown-august",
   "metadata": {},
   "outputs": [],
   "source": [
    "tab = '\"redhat-openshift-ocp-release-4.6-informing\"'\n",
    "grid = \"periodic-ci-openshift-release-master-ci-4.6-upgrade-from-stable-4.5-e2e-gcp-upgrade\""
   ]
  },
  {
   "cell_type": "code",
   "execution_count": 4,
   "id": "alternate-promise",
   "metadata": {},
   "outputs": [],
   "source": [
    "response = requests.get(\n",
    "    f\"https://gcsweb-ci.apps.ci.l2s4.p1.openshiftapps.com/gcs/origin-ci-test/logs/{grid}\"\n",
    ")\n",
    "soup = BeautifulSoup(response.text, \"html.parser\")\n",
    "list_of_builds = [x.get_text()[1:-1] for x in soup.find_all(\"a\")][1:-1]"
   ]
  },
  {
   "cell_type": "code",
   "execution_count": 5,
   "id": "fuzzy-advance",
   "metadata": {},
   "outputs": [
    {
     "data": {
      "text/plain": [
       "'https://gcsweb-ci.apps.ci.l2s4.p1.openshiftapps.com/gcs/origin-ci-test/logs/periodic-ci-openshift-release-master-ci-4.6-upgrade-from-stable-4.5-e2e-gcp-upgrade/1364869749170769920'"
      ]
     },
     "execution_count": 5,
     "metadata": {},
     "output_type": "execute_result"
    }
   ],
   "source": [
    "response = requests.get(\n",
    "    f\"https://gcsweb-ci.apps.ci.l2s4.p1.openshiftapps.com/gcs/origin-ci-test/logs/{grid}/{list_of_builds[1]}\"\n",
    ")\n",
    "response.url"
   ]
  },
  {
   "cell_type": "code",
   "execution_count": 6,
   "id": "vocal-orlando",
   "metadata": {},
   "outputs": [],
   "source": [
    "soup = BeautifulSoup(response.text, \"html.parser\")"
   ]
  },
  {
   "cell_type": "code",
   "execution_count": 7,
   "id": "tender-projector",
   "metadata": {},
   "outputs": [
    {
     "data": {
      "text/plain": [
       "[' ..',\n",
       " ' artifacts/',\n",
       " ' build-log.txt',\n",
       " ' finished.json',\n",
       " ' podinfo.json',\n",
       " ' prowjob.json',\n",
       " ' started.json']"
      ]
     },
     "execution_count": 7,
     "metadata": {},
     "output_type": "execute_result"
    }
   ],
   "source": [
    "[x.get_text() for x in soup.find_all(\"a\")]"
   ]
  },
  {
   "cell_type": "markdown",
   "id": "demonstrated-minutes",
   "metadata": {},
   "source": [
    "Great, we can now programmatically access the archives. Now, lets walk through all of the job archives for a single job and create a list of what they have on the first depth level of thier directory.  "
   ]
  },
  {
   "cell_type": "code",
   "execution_count": 8,
   "id": "dynamic-hundred",
   "metadata": {},
   "outputs": [],
   "source": [
    "build_data = {}\n",
    "\n",
    "for build in list_of_builds:\n",
    "    response = requests.get(\n",
    "        f\"https://gcsweb-ci.apps.ci.l2s4.p1.openshiftapps.com/gcs/origin-ci-test/logs/{grid}/{build}\"\n",
    "    )\n",
    "    soup = BeautifulSoup(response.text, \"html.parser\")\n",
    "    artifacts = [x.get_text() for x in soup.find_all(\"a\")]\n",
    "    build_data[build] = artifacts"
   ]
  },
  {
   "cell_type": "code",
   "execution_count": 9,
   "id": "powerful-signature",
   "metadata": {},
   "outputs": [],
   "source": [
    "builds_info = pd.Series({k: len(v) for (k, v) in build_data.items()})"
   ]
  },
  {
   "cell_type": "code",
   "execution_count": 10,
   "id": "motivated-concentrate",
   "metadata": {},
   "outputs": [
    {
     "data": {
      "text/plain": [
       "7    135\n",
       "6      3\n",
       "4      1\n",
       "5      1\n",
       "dtype: int64"
      ]
     },
     "execution_count": 10,
     "metadata": {},
     "output_type": "execute_result"
    }
   ],
   "source": [
    "builds_info.value_counts()"
   ]
  },
  {
   "cell_type": "code",
   "execution_count": 11,
   "id": "excited-forth",
   "metadata": {},
   "outputs": [
    {
     "data": {
      "text/plain": [
       " ..  artifacts/  build-log.txt  finished.json  podinfo.json  prowjob.json  started.json    135\n",
       " ..  artifacts/  build-log.txt  finished.json  prowjob.json  started.json                    2\n",
       " ..  build-log.txt  finished.json  prowjob.json  started.json                                1\n",
       " ..  build-log.txt  finished.json  podinfo.json  prowjob.json  started.json                  1\n",
       " ..  artifacts/  prowjob.json  started.json                                                  1\n",
       "dtype: int64"
      ]
     },
     "execution_count": 11,
     "metadata": {},
     "output_type": "execute_result"
    }
   ],
   "source": [
    "pd.Series(build_data).apply(\" \".join).value_counts()"
   ]
  },
  {
   "cell_type": "code",
   "execution_count": 12,
   "id": "apart-junction",
   "metadata": {},
   "outputs": [
    {
     "data": {
      "text/plain": [
       "7    0.964286\n",
       "6    0.021429\n",
       "4    0.007143\n",
       "5    0.007143\n",
       "dtype: float64"
      ]
     },
     "execution_count": 12,
     "metadata": {},
     "output_type": "execute_result"
    }
   ],
   "source": [
    "builds_info.value_counts() / len(builds_info)"
   ]
  },
  {
   "cell_type": "markdown",
   "id": "original-finnish",
   "metadata": {},
   "source": [
    "97% percent of our records for this job include appear to be complete and include the 'artifacts/' subdirectory, lets dig in and see what they contain. "
   ]
  },
  {
   "cell_type": "code",
   "execution_count": 13,
   "id": "blind-beijing",
   "metadata": {},
   "outputs": [],
   "source": [
    "build_data = {}\n",
    "\n",
    "for build in list_of_builds:\n",
    "    response = requests.get(\n",
    "        f\"https://gcsweb-ci.apps.ci.l2s4.p1.openshiftapps.com/gcs/origin-ci-test/logs/{grid}/{build}/artifacts\"\n",
    "    )\n",
    "    soup = BeautifulSoup(response.text, \"html.parser\")\n",
    "    artifacts = [x.get_text() for x in soup.find_all(\"a\")]\n",
    "    build_data[build] = artifacts"
   ]
  },
  {
   "cell_type": "code",
   "execution_count": 14,
   "id": "soviet-circumstances",
   "metadata": {},
   "outputs": [
    {
     "data": {
      "text/plain": [
       "6    92\n",
       "5    36\n",
       "7     4\n",
       "1     2\n",
       "2     2\n",
       "3     2\n",
       "4     2\n",
       "dtype: int64"
      ]
     },
     "execution_count": 14,
     "metadata": {},
     "output_type": "execute_result"
    }
   ],
   "source": [
    "artifact_info = pd.Series({k: len(v) for (k, v) in build_data.items()})\n",
    "artifact_info.value_counts()"
   ]
  },
  {
   "cell_type": "code",
   "execution_count": 15,
   "id": "legendary-orlando",
   "metadata": {},
   "outputs": [
    {
     "data": {
      "text/plain": [
       "6    0.657143\n",
       "5    0.257143\n",
       "7    0.028571\n",
       "1    0.014286\n",
       "2    0.014286\n",
       "3    0.014286\n",
       "4    0.014286\n",
       "dtype: float64"
      ]
     },
     "execution_count": 15,
     "metadata": {},
     "output_type": "execute_result"
    }
   ],
   "source": [
    "artifact_info.value_counts() / len(artifact_info)"
   ]
  },
  {
   "cell_type": "code",
   "execution_count": 16,
   "id": "separated-champagne",
   "metadata": {},
   "outputs": [
    {
     "data": {
      "text/plain": [
       " ..  build-resources/  e2e-gcp-upgrade/  release/  junit_operator.xml  metadata.json                     92\n",
       " ..  build-resources/  e2e-gcp-upgrade/  junit_operator.xml  metadata.json                               27\n",
       " ..  build-resources/  release/  junit_operator.xml  metadata.json                                        9\n",
       " ..  build-resources/  e2e-gcp-upgrade/  release/  ci-operator.log  junit_operator.xml  metadata.json     4\n",
       " ..  build-resources/  junit_operator.xml  metadata.json                                                  2\n",
       " ..                                                                                                       2\n",
       " ..  junit_job.xml                                                                                        1\n",
       " ..  junit_job.xml  metadata.json                                                                         1\n",
       " ..  e2e-gcp-upgrade/  release/                                                                           1\n",
       " ..  release/                                                                                             1\n",
       "dtype: int64"
      ]
     },
     "execution_count": 16,
     "metadata": {},
     "output_type": "execute_result"
    }
   ],
   "source": [
    "pd.Series(build_data).apply(\" \".join).value_counts()"
   ]
  },
  {
   "cell_type": "markdown",
   "id": "industrial-roommate",
   "metadata": {},
   "source": [
    "We can see that once we get down into the artifacts there is a fair bit less uniformity to the data available to us. And this is all within a single job! We will look into it next, but my assumptions is that this issue gets worse when comparing available artifacts across jobs. \n",
    "\n",
    "This will make it somewhat difficult to use these sets of documents as a whole to compare different CI behaviour. At this point, it might make sense to consider looking only at the same document (log) across job when availble. \n",
    "\n",
    "In the next section we are going to walkthrough how to access and parse the build-log as well as the events json both to download a small testing dataset our working directly with the data in memory.  "
   ]
  },
  {
   "cell_type": "markdown",
   "id": "thrown-wrist",
   "metadata": {},
   "source": [
    "## Quick example of reading build logs in memory"
   ]
  },
  {
   "cell_type": "code",
   "execution_count": 17,
   "id": "official-cylinder",
   "metadata": {},
   "outputs": [],
   "source": [
    "response = requests.get(\n",
    "    f\"https://gcsweb-ci.apps.ci.l2s4.p1.openshiftapps.com/\\\n",
    "                        gcs/origin-ci-test/logs/{grid}/1364778930069835776/\\\n",
    "                        build-log.txt\"\n",
    ")"
   ]
  },
  {
   "cell_type": "code",
   "execution_count": 18,
   "id": "technical-keyboard",
   "metadata": {},
   "outputs": [
    {
     "data": {
      "text/plain": [
       "'https://gcsweb-ci.apps.ci.l2s4.p1.openshiftapps.com/gcs/origin-ci-test/logs/periodic-ci-openshift-release-master-ci-4.6-upgrade-from-stable-4.5-e2e-gcp-upgrade/1364778930069835776/build-log.txt'"
      ]
     },
     "execution_count": 18,
     "metadata": {},
     "output_type": "execute_result"
    }
   ],
   "source": [
    "response.url"
   ]
  },
  {
   "cell_type": "code",
   "execution_count": 19,
   "id": "acquired-agreement",
   "metadata": {},
   "outputs": [
    {
     "data": {
      "text/plain": [
       "'2021/02/25 03:27:14 ci-operator version v20210224-231f07b\\n2021/02/25 03:27:14 Loading configuration from https://config.ci.openshift.org for openshift/release@master [ci-4.6-upgrade-from-stable-4.5]\\nerror: failed to load configuration: got unexpected http 404 status code from configresolver: failed to get config: could not find any config for branch master on repo openshift/release\\ntime=\"2021-02-25T03:27:14Z\" level=info msg=\"Reporting job state \\'failed\\' with reason \\'loading_args:loading_config:config_resolver\\'\"\\n'"
      ]
     },
     "execution_count": 19,
     "metadata": {},
     "output_type": "execute_result"
    }
   ],
   "source": [
    "response.text"
   ]
  },
  {
   "cell_type": "code",
   "execution_count": 20,
   "id": "convinced-dispute",
   "metadata": {},
   "outputs": [
    {
     "name": "stdout",
     "output_type": "stream",
     "text": [
      "2021/02/25 03:27:14 ci-operator version v20210224-231f07b\n",
      "2021/02/25 03:27:14 Loading configuration from https://config.ci.openshift.org for openshift/release@master [ci-4.6-upgrade-from-stable-4.5]\n",
      "error: failed to load configuration: got unexpected http 404 status code from configresolver: failed to get config: could not find any config for branch master on repo openshift/release\n",
      "time=\"2021-02-25T03:27:14Z\" level=info msg=\"Reporting job state 'failed' with reason 'loading_args:loading_config:config_resolver'\"\n",
      "\n"
     ]
    }
   ],
   "source": [
    "soup = BeautifulSoup(response.text, \"html.parser\")\n",
    "print(soup)"
   ]
  }
 ],
 "metadata": {
  "kernelspec": {
   "display_name": "Python 3",
   "language": "python",
   "name": "python3"
  },
  "language_info": {
   "codemirror_mode": {
    "name": "ipython",
    "version": 3
   },
   "file_extension": ".py",
   "mimetype": "text/x-python",
   "name": "python",
   "nbconvert_exporter": "python",
   "pygments_lexer": "ipython3",
   "version": "3.8.3"
  }
 },
 "nbformat": 4,
 "nbformat_minor": 5
}
