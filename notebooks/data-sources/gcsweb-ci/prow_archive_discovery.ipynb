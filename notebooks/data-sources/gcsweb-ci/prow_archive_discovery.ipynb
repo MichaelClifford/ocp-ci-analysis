{
 "cells": [
  {
   "cell_type": "markdown",
   "id": "adequate-daniel",
   "metadata": {},
   "source": [
    "# Prow Logs and GCS Data"
   ]
  },
  {
   "cell_type": "code",
   "execution_count": 1,
   "id": "annoying-traffic",
   "metadata": {},
   "outputs": [],
   "source": [
    "import gzip\n",
    "import json\n",
    "import requests\n",
    "import pandas as pd\n",
    "from bs4 import BeautifulSoup\n",
    "from google.cloud import storage"
   ]
  },
  {
   "cell_type": "markdown",
   "id": "operating-hungary",
   "metadata": {},
   "source": [
    "### What do we have access to as data scientists when digging into the build artifacts?\n",
    "\n",
    "In this notebook we want to determine how to interact with the availble data on GCS. We will provide some EDA and perfrom 2 different tasks.\n",
    "\n",
    "\n",
    "1. Compare the different log files present throughout the archives and quantify how complete and compareable our log dataset is.\n",
    "1. Download a small sample dataset of events and build logs to perform some EDA on.  \n"
   ]
  },
  {
   "cell_type": "code",
   "execution_count": 2,
   "id": "super-pollution",
   "metadata": {},
   "outputs": [],
   "source": [
    "# Load test file to access our record of job names\n",
    "with gzip.open(\"../../../data/raw/testgrid_810.json.gz\", \"rb\") as read_file:\n",
    "    testgrid_data = json.load(read_file)"
   ]
  },
  {
   "cell_type": "markdown",
   "id": "interested-german",
   "metadata": {},
   "source": [
    "### Example to access a single prow artifacts page\n",
    "\n",
    "Let's make sure we understand how this works, and focus on a single job first."
   ]
  },
  {
   "cell_type": "code",
   "execution_count": 3,
   "id": "placed-audio",
   "metadata": {},
   "outputs": [],
   "source": [
    "tab = '\"redhat-openshift-ocp-release-4.6-informing\"'\n",
    "grid = \"periodic-ci-openshift-release-master-ci-4.6-upgrade-from-stable-4.5-e2e-gcp-upgrade\""
   ]
  },
  {
   "cell_type": "code",
   "execution_count": 4,
   "id": "distant-majority",
   "metadata": {},
   "outputs": [],
   "source": [
    "response = requests.get(\n",
    "    f\"https://gcsweb-ci.apps.ci.l2s4.p1.openshiftapps.com/gcs/origin-ci-test/logs/{grid}\"\n",
    ")\n",
    "soup = BeautifulSoup(response.text, \"html.parser\")\n",
    "list_of_builds = [x.get_text()[1:-1] for x in soup.find_all(\"a\")][1:-1]"
   ]
  },
  {
   "cell_type": "code",
   "execution_count": 5,
   "id": "mobile-november",
   "metadata": {},
   "outputs": [
    {
     "data": {
      "text/plain": [
       "'https://gcsweb-ci.apps.ci.l2s4.p1.openshiftapps.com/gcs/origin-ci-test/logs/periodic-ci-openshift-release-master-ci-4.6-upgrade-from-stable-4.5-e2e-gcp-upgrade/1364869749170769920'"
      ]
     },
     "execution_count": 5,
     "metadata": {},
     "output_type": "execute_result"
    }
   ],
   "source": [
    "response = requests.get(\n",
    "    f\"https://gcsweb-ci.apps.ci.l2s4.p1.openshiftapps.com/gcs/origin-ci-test/logs/{grid}/{list_of_builds[1]}\"\n",
    ")\n",
    "response.url"
   ]
  },
  {
   "cell_type": "code",
   "execution_count": 6,
   "id": "proud-fourth",
   "metadata": {},
   "outputs": [],
   "source": [
    "soup = BeautifulSoup(response.text, \"html.parser\")"
   ]
  },
  {
   "cell_type": "code",
   "execution_count": 7,
   "id": "antique-intermediate",
   "metadata": {},
   "outputs": [
    {
     "data": {
      "text/plain": [
       "[' ..',\n",
       " ' artifacts/',\n",
       " ' build-log.txt',\n",
       " ' finished.json',\n",
       " ' podinfo.json',\n",
       " ' prowjob.json',\n",
       " ' started.json']"
      ]
     },
     "execution_count": 7,
     "metadata": {},
     "output_type": "execute_result"
    }
   ],
   "source": [
    "[x.get_text() for x in soup.find_all(\"a\")]"
   ]
  },
  {
   "cell_type": "markdown",
   "id": "removed-struggle",
   "metadata": {},
   "source": [
    "Great, we can now programmatically access the archives. Now, lets walk through all of the job archives for a single job and create a list of what they have on the first depth level of thier directory.  "
   ]
  },
  {
   "cell_type": "code",
   "execution_count": 8,
   "id": "still-separation",
   "metadata": {},
   "outputs": [],
   "source": [
    "build_data = {}\n",
    "\n",
    "for build in list_of_builds:\n",
    "    response = requests.get(\n",
    "        f\"https://gcsweb-ci.apps.ci.l2s4.p1.openshiftapps.com/gcs/origin-ci-test/logs/{grid}/{build}\"\n",
    "    )\n",
    "    soup = BeautifulSoup(response.text, \"html.parser\")\n",
    "    artifacts = [x.get_text() for x in soup.find_all(\"a\")]\n",
    "    build_data[build] = artifacts"
   ]
  },
  {
   "cell_type": "code",
   "execution_count": 9,
   "id": "bored-snake",
   "metadata": {},
   "outputs": [],
   "source": [
    "builds_info = pd.Series({k: len(v) for (k, v) in build_data.items()})"
   ]
  },
  {
   "cell_type": "code",
   "execution_count": 10,
   "id": "military-wichita",
   "metadata": {},
   "outputs": [
    {
     "data": {
      "text/plain": [
       "7    210\n",
       "6      3\n",
       "4      1\n",
       "5      1\n",
       "dtype: int64"
      ]
     },
     "execution_count": 10,
     "metadata": {},
     "output_type": "execute_result"
    }
   ],
   "source": [
    "builds_info.value_counts()"
   ]
  },
  {
   "cell_type": "code",
   "execution_count": 11,
   "id": "native-paste",
   "metadata": {},
   "outputs": [
    {
     "data": {
      "text/plain": [
       " ..  artifacts/  build-log.txt  finished.json  podinfo.json  prowjob.json  started.json    210\n",
       " ..  artifacts/  build-log.txt  finished.json  prowjob.json  started.json                    2\n",
       " ..  build-log.txt  finished.json  podinfo.json  prowjob.json  started.json                  1\n",
       " ..  build-log.txt  finished.json  prowjob.json  started.json                                1\n",
       " ..  artifacts/  prowjob.json  started.json                                                  1\n",
       "dtype: int64"
      ]
     },
     "execution_count": 11,
     "metadata": {},
     "output_type": "execute_result"
    }
   ],
   "source": [
    "pd.Series(build_data).apply(\" \".join).value_counts()"
   ]
  },
  {
   "cell_type": "code",
   "execution_count": 12,
   "id": "straight-cinema",
   "metadata": {},
   "outputs": [
    {
     "data": {
      "text/plain": [
       "7    0.976744\n",
       "6    0.013953\n",
       "4    0.004651\n",
       "5    0.004651\n",
       "dtype: float64"
      ]
     },
     "execution_count": 12,
     "metadata": {},
     "output_type": "execute_result"
    }
   ],
   "source": [
    "builds_info.value_counts() / len(builds_info)"
   ]
  },
  {
   "cell_type": "markdown",
   "id": "residential-block",
   "metadata": {},
   "source": [
    "97% percent of our records for this job include appear to be complete and include the 'artifacts/' subdirectory, lets dig in and see what they contain. "
   ]
  },
  {
   "cell_type": "code",
   "execution_count": 13,
   "id": "primary-techno",
   "metadata": {},
   "outputs": [],
   "source": [
    "build_data = {}\n",
    "\n",
    "for build in list_of_builds:\n",
    "    response = requests.get(\n",
    "        f\"https://gcsweb-ci.apps.ci.l2s4.p1.openshiftapps.com/gcs/origin-ci-test/logs/{grid}/{build}/artifacts\"\n",
    "    )\n",
    "    soup = BeautifulSoup(response.text, \"html.parser\")\n",
    "    artifacts = [x.get_text() for x in soup.find_all(\"a\")]\n",
    "    build_data[build] = artifacts"
   ]
  },
  {
   "cell_type": "code",
   "execution_count": 14,
   "id": "crazy-neutral",
   "metadata": {},
   "outputs": [
    {
     "data": {
      "text/plain": [
       "6    95\n",
       "7    43\n",
       "5    36\n",
       "8    33\n",
       "1     2\n",
       "2     2\n",
       "3     2\n",
       "4     2\n",
       "dtype: int64"
      ]
     },
     "execution_count": 14,
     "metadata": {},
     "output_type": "execute_result"
    }
   ],
   "source": [
    "artifact_info = pd.Series({k: len(v) for (k, v) in build_data.items()})\n",
    "artifact_info.value_counts()"
   ]
  },
  {
   "cell_type": "code",
   "execution_count": 15,
   "id": "initial-beatles",
   "metadata": {},
   "outputs": [
    {
     "data": {
      "text/plain": [
       "6    0.441860\n",
       "7    0.200000\n",
       "5    0.167442\n",
       "8    0.153488\n",
       "1    0.009302\n",
       "2    0.009302\n",
       "3    0.009302\n",
       "4    0.009302\n",
       "dtype: float64"
      ]
     },
     "execution_count": 15,
     "metadata": {},
     "output_type": "execute_result"
    }
   ],
   "source": [
    "artifact_info.value_counts() / len(artifact_info)"
   ]
  },
  {
   "cell_type": "code",
   "execution_count": 16,
   "id": "varied-hacker",
   "metadata": {},
   "outputs": [
    {
     "data": {
      "text/plain": [
       " ..  build-resources/  e2e-gcp-upgrade/  release/  junit_operator.xml  metadata.json                                                  92\n",
       " ..  build-resources/  e2e-gcp-upgrade/  release/  ci-operator.log  junit_operator.xml  metadata.json                                 39\n",
       " ..  build-resources/  e2e-gcp-upgrade/  release/  ci-operator-step-graph.json  ci-operator.log  junit_operator.xml  metadata.json    33\n",
       " ..  build-resources/  e2e-gcp-upgrade/  junit_operator.xml  metadata.json                                                            27\n",
       " ..  build-resources/  release/  junit_operator.xml  metadata.json                                                                     9\n",
       " ..  build-resources/  release/  ci-operator-step-graph.json  ci-operator.log  junit_operator.xml  metadata.json                       4\n",
       " ..  build-resources/  release/  ci-operator.log  junit_operator.xml  metadata.json                                                    2\n",
       " ..                                                                                                                                    2\n",
       " ..  build-resources/  junit_operator.xml  metadata.json                                                                               2\n",
       " ..  e2e-gcp-upgrade/  release/                                                                                                        1\n",
       " ..  release/                                                                                                                          1\n",
       " ..  build-resources/  e2e-gcp-upgrade/  release/  ci-operator.log  metadata.json                                                      1\n",
       " ..  junit_job.xml  metadata.json                                                                                                      1\n",
       " ..  junit_job.xml                                                                                                                     1\n",
       "dtype: int64"
      ]
     },
     "execution_count": 16,
     "metadata": {},
     "output_type": "execute_result"
    }
   ],
   "source": [
    "pd.Series(build_data).apply(\" \".join).value_counts()"
   ]
  },
  {
   "cell_type": "markdown",
   "id": "pharmaceutical-keeping",
   "metadata": {},
   "source": [
    "We can see that once we get down into the artifacts there is a fair bit less uniformity to the data available to us. And this is all within a single job! We will look into it next, but my assumptions is that this issue gets worse when comparing available artifacts across jobs. \n",
    "\n",
    "This will make it somewhat difficult to use these sets of documents as a whole to compare different CI behaviour. At this point, it might make sense to consider looking only at the same document (log) across job when availble. \n",
    "\n",
    "In the next section we are going to walkthrough how to access and parse the build-log as well as the events json both to download a small testing dataset our working directly with the data in memory.  "
   ]
  },
  {
   "cell_type": "markdown",
   "id": "otherwise-density",
   "metadata": {},
   "source": [
    "## Collecting build logs"
   ]
  },
  {
   "cell_type": "code",
   "execution_count": 17,
   "id": "heated-withdrawal",
   "metadata": {},
   "outputs": [],
   "source": [
    "def download_public_file(bucket_name, source_blob_name):\n",
    "    \"\"\"Downloads a public blob from the bucket.\"\"\"\n",
    "    storage_client = storage.Client.create_anonymous_client()\n",
    "    bucket = storage_client.bucket(bucket_name)\n",
    "    blob = bucket.blob(source_blob_name)\n",
    "    if blob.exists(storage_client):\n",
    "        text = blob.download_as_text()\n",
    "    else:\n",
    "        text = \"\"\n",
    "    return text"
   ]
  },
  {
   "cell_type": "code",
   "execution_count": 18,
   "id": "concerned-frame",
   "metadata": {},
   "outputs": [],
   "source": [
    "build_log_data = {}\n",
    "for build in list_of_builds:\n",
    "    file = download_public_file(\"origin-ci-test\", f\"logs/{grid}/{build}/build-log.txt\")\n",
    "    build_log_data[build] = file"
   ]
  },
  {
   "cell_type": "code",
   "execution_count": 19,
   "id": "english-planner",
   "metadata": {},
   "outputs": [],
   "source": [
    "def get_counts(x):\n",
    "    \"\"\"\n",
    "    Gets counts for chars, words, lines for a log.\n",
    "    \"\"\"\n",
    "    if x:\n",
    "        chars = len(x)\n",
    "        words = len(x.split())\n",
    "        lines = x.count(\"\\n\") + 1\n",
    "        return chars, words, lines\n",
    "    else:\n",
    "        return 0, 0, 0"
   ]
  },
  {
   "cell_type": "code",
   "execution_count": 20,
   "id": "material-uruguay",
   "metadata": {},
   "outputs": [
    {
     "data": {
      "text/html": [
       "<div>\n",
       "<style scoped>\n",
       "    .dataframe tbody tr th:only-of-type {\n",
       "        vertical-align: middle;\n",
       "    }\n",
       "\n",
       "    .dataframe tbody tr th {\n",
       "        vertical-align: top;\n",
       "    }\n",
       "\n",
       "    .dataframe thead th {\n",
       "        text-align: right;\n",
       "    }\n",
       "</style>\n",
       "<table border=\"1\" class=\"dataframe\">\n",
       "  <thead>\n",
       "    <tr style=\"text-align: right;\">\n",
       "      <th></th>\n",
       "      <th>build_log_id</th>\n",
       "      <th>chars</th>\n",
       "      <th>words</th>\n",
       "      <th>lines</th>\n",
       "    </tr>\n",
       "  </thead>\n",
       "  <tbody>\n",
       "    <tr>\n",
       "      <th>0</th>\n",
       "      <td>1364778930069835776</td>\n",
       "      <td>517</td>\n",
       "      <td>51</td>\n",
       "      <td>5</td>\n",
       "    </tr>\n",
       "    <tr>\n",
       "      <th>1</th>\n",
       "      <td>1364869749170769920</td>\n",
       "      <td>10805</td>\n",
       "      <td>919</td>\n",
       "      <td>111</td>\n",
       "    </tr>\n",
       "    <tr>\n",
       "      <th>2</th>\n",
       "      <td>1364960659313266688</td>\n",
       "      <td>10807</td>\n",
       "      <td>919</td>\n",
       "      <td>111</td>\n",
       "    </tr>\n",
       "    <tr>\n",
       "      <th>3</th>\n",
       "      <td>1365051265100288000</td>\n",
       "      <td>15758</td>\n",
       "      <td>1316</td>\n",
       "      <td>184</td>\n",
       "    </tr>\n",
       "    <tr>\n",
       "      <th>4</th>\n",
       "      <td>1365142142841786368</td>\n",
       "      <td>10804</td>\n",
       "      <td>919</td>\n",
       "      <td>111</td>\n",
       "    </tr>\n",
       "    <tr>\n",
       "      <th>...</th>\n",
       "      <td>...</td>\n",
       "      <td>...</td>\n",
       "      <td>...</td>\n",
       "      <td>...</td>\n",
       "    </tr>\n",
       "    <tr>\n",
       "      <th>210</th>\n",
       "      <td>1383782446109036544</td>\n",
       "      <td>37601</td>\n",
       "      <td>2690</td>\n",
       "      <td>261</td>\n",
       "    </tr>\n",
       "    <tr>\n",
       "      <th>211</th>\n",
       "      <td>1383873157873537024</td>\n",
       "      <td>16784</td>\n",
       "      <td>1167</td>\n",
       "      <td>120</td>\n",
       "    </tr>\n",
       "    <tr>\n",
       "      <th>212</th>\n",
       "      <td>1383963863615016960</td>\n",
       "      <td>4331</td>\n",
       "      <td>246</td>\n",
       "      <td>42</td>\n",
       "    </tr>\n",
       "    <tr>\n",
       "      <th>213</th>\n",
       "      <td>1384054560330354688</td>\n",
       "      <td>16787</td>\n",
       "      <td>1167</td>\n",
       "      <td>120</td>\n",
       "    </tr>\n",
       "    <tr>\n",
       "      <th>214</th>\n",
       "      <td>1384145257968439296</td>\n",
       "      <td>0</td>\n",
       "      <td>0</td>\n",
       "      <td>0</td>\n",
       "    </tr>\n",
       "  </tbody>\n",
       "</table>\n",
       "<p>215 rows × 4 columns</p>\n",
       "</div>"
      ],
      "text/plain": [
       "            build_log_id  chars  words  lines\n",
       "0    1364778930069835776    517     51      5\n",
       "1    1364869749170769920  10805    919    111\n",
       "2    1364960659313266688  10807    919    111\n",
       "3    1365051265100288000  15758   1316    184\n",
       "4    1365142142841786368  10804    919    111\n",
       "..                   ...    ...    ...    ...\n",
       "210  1383782446109036544  37601   2690    261\n",
       "211  1383873157873537024  16784   1167    120\n",
       "212  1383963863615016960   4331    246     42\n",
       "213  1384054560330354688  16787   1167    120\n",
       "214  1384145257968439296      0      0      0\n",
       "\n",
       "[215 rows x 4 columns]"
      ]
     },
     "execution_count": 20,
     "metadata": {},
     "output_type": "execute_result"
    }
   ],
   "source": [
    "## Create a dataframe with char, words, and lines\n",
    "## count for the logs\n",
    "data = []\n",
    "for key, value in build_log_data.items():\n",
    "    chars, words, lines = get_counts(value)\n",
    "    data.append([key, chars, words, lines])\n",
    "\n",
    "df = pd.DataFrame(data=data, columns=[\"build_log_id\", \"chars\", \"words\", \"lines\"])\n",
    "df"
   ]
  },
  {
   "cell_type": "markdown",
   "id": "classified-structure",
   "metadata": {},
   "source": [
    "#### See the stats for chars, words, lines"
   ]
  },
  {
   "cell_type": "code",
   "execution_count": 21,
   "id": "continent-parish",
   "metadata": {},
   "outputs": [
    {
     "data": {
      "text/plain": [
       "count    2.150000e+02\n",
       "mean     1.702544e+05\n",
       "std      8.190881e+05\n",
       "min      0.000000e+00\n",
       "25%      1.080750e+04\n",
       "50%      1.104000e+04\n",
       "75%      1.633500e+04\n",
       "max      6.662932e+06\n",
       "Name: chars, dtype: float64"
      ]
     },
     "execution_count": 21,
     "metadata": {},
     "output_type": "execute_result"
    }
   ],
   "source": [
    "df[\"chars\"].describe()"
   ]
  },
  {
   "cell_type": "code",
   "execution_count": 22,
   "id": "criminal-subject",
   "metadata": {},
   "outputs": [
    {
     "data": {
      "text/plain": [
       "count       215.000000\n",
       "mean      11718.827907\n",
       "std       57193.249040\n",
       "min           0.000000\n",
       "25%         906.500000\n",
       "50%         926.000000\n",
       "75%        1287.000000\n",
       "max      508998.000000\n",
       "Name: words, dtype: float64"
      ]
     },
     "execution_count": 22,
     "metadata": {},
     "output_type": "execute_result"
    }
   ],
   "source": [
    "df[\"words\"].describe()"
   ]
  },
  {
   "cell_type": "code",
   "execution_count": 23,
   "id": "reliable-society",
   "metadata": {},
   "outputs": [
    {
     "data": {
      "text/plain": [
       "count      215.00000\n",
       "mean       703.47907\n",
       "std       2920.66318\n",
       "min          0.00000\n",
       "25%        111.00000\n",
       "50%        112.00000\n",
       "75%        120.00000\n",
       "max      21291.00000\n",
       "Name: lines, dtype: float64"
      ]
     },
     "execution_count": 23,
     "metadata": {},
     "output_type": "execute_result"
    }
   ],
   "source": [
    "df[\"lines\"].describe()"
   ]
  },
  {
   "cell_type": "markdown",
   "id": "above-embassy",
   "metadata": {},
   "source": [
    "* From the initial analysis, we see that we have log files with 2 lines to ~21,000 lines with a mean of 703 lines. This suggests high variability. The next few things to look at would be similarity betwen the log files, performing word analysis, templating, and clustering."
   ]
  },
  {
   "cell_type": "markdown",
   "id": "young-packet",
   "metadata": {},
   "source": [
    "## Collect the events data"
   ]
  },
  {
   "cell_type": "code",
   "execution_count": 24,
   "id": "flying-notification",
   "metadata": {},
   "outputs": [],
   "source": [
    "build_events_data = {}\n",
    "for build in list_of_builds:\n",
    "    file = download_public_file(\n",
    "        \"origin-ci-test\", f\"logs/{grid}/{build}/artifacts/build-resources/events.json\"\n",
    "    )\n",
    "    if file:\n",
    "        build_events_data[build] = json.loads(file)\n",
    "    else:\n",
    "        build_events_data[build] = \"\""
   ]
  },
  {
   "cell_type": "code",
   "execution_count": 25,
   "id": "bibliographic-creativity",
   "metadata": {},
   "outputs": [
    {
     "data": {
      "text/plain": [
       "97.20930232558139"
      ]
     },
     "execution_count": 25,
     "metadata": {},
     "output_type": "execute_result"
    }
   ],
   "source": [
    "## Percentage of builds that have the events.json file\n",
    "count = 0\n",
    "for key, value in build_events_data.items():\n",
    "    if value:\n",
    "        count += 1\n",
    "count * 100 / len(build_events_data)"
   ]
  },
  {
   "cell_type": "code",
   "execution_count": 26,
   "id": "agricultural-august",
   "metadata": {},
   "outputs": [
    {
     "data": {
      "text/html": [
       "<div>\n",
       "<style scoped>\n",
       "    .dataframe tbody tr th:only-of-type {\n",
       "        vertical-align: middle;\n",
       "    }\n",
       "\n",
       "    .dataframe tbody tr th {\n",
       "        vertical-align: top;\n",
       "    }\n",
       "\n",
       "    .dataframe thead th {\n",
       "        text-align: right;\n",
       "    }\n",
       "</style>\n",
       "<table border=\"1\" class=\"dataframe\">\n",
       "  <thead>\n",
       "    <tr style=\"text-align: right;\">\n",
       "      <th></th>\n",
       "      <th>UID</th>\n",
       "      <th>message</th>\n",
       "    </tr>\n",
       "  </thead>\n",
       "  <tbody>\n",
       "    <tr>\n",
       "      <th>0</th>\n",
       "      <td>504b881c-9e97-46a0-b206-765c9973e1d3</td>\n",
       "      <td>Running job periodic-ci-openshift-release-mast...</td>\n",
       "    </tr>\n",
       "    <tr>\n",
       "      <th>1</th>\n",
       "      <td>3a92467e-993e-43a1-8eee-24ba7a22508f</td>\n",
       "      <td>Running job periodic-ci-openshift-release-mast...</td>\n",
       "    </tr>\n",
       "    <tr>\n",
       "      <th>2</th>\n",
       "      <td>ed40875c-b182-4164-b730-a3754ed94124</td>\n",
       "      <td>Running job periodic-ci-openshift-release-mast...</td>\n",
       "    </tr>\n",
       "    <tr>\n",
       "      <th>3</th>\n",
       "      <td>b8c5b026-936e-4f28-a0de-62051ff378d8</td>\n",
       "      <td>Running job periodic-ci-openshift-release-mast...</td>\n",
       "    </tr>\n",
       "    <tr>\n",
       "      <th>4</th>\n",
       "      <td>b1b8265a-d87d-430d-b38e-c10c7f3fb91c</td>\n",
       "      <td>No matching pods found</td>\n",
       "    </tr>\n",
       "    <tr>\n",
       "      <th>...</th>\n",
       "      <td>...</td>\n",
       "      <td>...</td>\n",
       "    </tr>\n",
       "    <tr>\n",
       "      <th>477</th>\n",
       "      <td>db97f7b5-5fb4-4e68-aa82-cd9c120b9c8d</td>\n",
       "      <td>Container image \"gcr.io/k8s-prow/sidecar:v2021...</td>\n",
       "    </tr>\n",
       "    <tr>\n",
       "      <th>478</th>\n",
       "      <td>947a5c3f-f318-42d8-88c5-133f9783e94d</td>\n",
       "      <td>Created container sidecar</td>\n",
       "    </tr>\n",
       "    <tr>\n",
       "      <th>479</th>\n",
       "      <td>e94e0988-c2ea-4045-bb84-251410018d94</td>\n",
       "      <td>Started container sidecar</td>\n",
       "    </tr>\n",
       "    <tr>\n",
       "      <th>480</th>\n",
       "      <td>00bef865-7965-4b65-b39a-9993347c5942</td>\n",
       "      <td>Back-off pulling image \"image-registry.openshi...</td>\n",
       "    </tr>\n",
       "    <tr>\n",
       "      <th>481</th>\n",
       "      <td>a85f8fbd-9cac-4e47-a5d4-5fbe145d4050</td>\n",
       "      <td>Error: ImagePullBackOff</td>\n",
       "    </tr>\n",
       "  </tbody>\n",
       "</table>\n",
       "<p>482 rows × 2 columns</p>\n",
       "</div>"
      ],
      "text/plain": [
       "                                      UID  \\\n",
       "0    504b881c-9e97-46a0-b206-765c9973e1d3   \n",
       "1    3a92467e-993e-43a1-8eee-24ba7a22508f   \n",
       "2    ed40875c-b182-4164-b730-a3754ed94124   \n",
       "3    b8c5b026-936e-4f28-a0de-62051ff378d8   \n",
       "4    b1b8265a-d87d-430d-b38e-c10c7f3fb91c   \n",
       "..                                    ...   \n",
       "477  db97f7b5-5fb4-4e68-aa82-cd9c120b9c8d   \n",
       "478  947a5c3f-f318-42d8-88c5-133f9783e94d   \n",
       "479  e94e0988-c2ea-4045-bb84-251410018d94   \n",
       "480  00bef865-7965-4b65-b39a-9993347c5942   \n",
       "481  a85f8fbd-9cac-4e47-a5d4-5fbe145d4050   \n",
       "\n",
       "                                               message  \n",
       "0    Running job periodic-ci-openshift-release-mast...  \n",
       "1    Running job periodic-ci-openshift-release-mast...  \n",
       "2    Running job periodic-ci-openshift-release-mast...  \n",
       "3    Running job periodic-ci-openshift-release-mast...  \n",
       "4                               No matching pods found  \n",
       "..                                                 ...  \n",
       "477  Container image \"gcr.io/k8s-prow/sidecar:v2021...  \n",
       "478                          Created container sidecar  \n",
       "479                          Started container sidecar  \n",
       "480  Back-off pulling image \"image-registry.openshi...  \n",
       "481                            Error: ImagePullBackOff  \n",
       "\n",
       "[482 rows x 2 columns]"
      ]
     },
     "execution_count": 26,
     "metadata": {},
     "output_type": "execute_result"
    }
   ],
   "source": [
    "# Analyzing the messages of a single build\n",
    "messages = [\n",
    "    (i[\"metadata\"][\"uid\"], i[\"message\"])\n",
    "    for i in build_events_data[\"1364869749170769920\"][\"items\"]\n",
    "]\n",
    "messages_df = pd.DataFrame(messages, columns=[\"UID\", \"message\"])\n",
    "messages_df"
   ]
  },
  {
   "cell_type": "code",
   "execution_count": 27,
   "id": "legal-float",
   "metadata": {},
   "outputs": [
    {
     "data": {
      "text/plain": [
       "count                           482\n",
       "unique                          156\n",
       "top       Started container sidecar\n",
       "freq                             29\n",
       "Name: message, dtype: object"
      ]
     },
     "execution_count": 27,
     "metadata": {},
     "output_type": "execute_result"
    }
   ],
   "source": [
    "messages_df[\"message\"].describe()"
   ]
  },
  {
   "cell_type": "code",
   "execution_count": 28,
   "id": "apparent-estate",
   "metadata": {},
   "outputs": [
    {
     "data": {
      "text/html": [
       "<div>\n",
       "<style scoped>\n",
       "    .dataframe tbody tr th:only-of-type {\n",
       "        vertical-align: middle;\n",
       "    }\n",
       "\n",
       "    .dataframe tbody tr th {\n",
       "        vertical-align: top;\n",
       "    }\n",
       "\n",
       "    .dataframe thead th {\n",
       "        text-align: right;\n",
       "    }\n",
       "</style>\n",
       "<table border=\"1\" class=\"dataframe\">\n",
       "  <thead>\n",
       "    <tr style=\"text-align: right;\">\n",
       "      <th></th>\n",
       "      <th>index</th>\n",
       "      <th>message</th>\n",
       "    </tr>\n",
       "  </thead>\n",
       "  <tbody>\n",
       "    <tr>\n",
       "      <th>0</th>\n",
       "      <td>Started container sidecar</td>\n",
       "      <td>29</td>\n",
       "    </tr>\n",
       "    <tr>\n",
       "      <th>1</th>\n",
       "      <td>Created container sidecar</td>\n",
       "      <td>29</td>\n",
       "    </tr>\n",
       "    <tr>\n",
       "      <th>2</th>\n",
       "      <td>Created container place-entrypoint</td>\n",
       "      <td>29</td>\n",
       "    </tr>\n",
       "    <tr>\n",
       "      <th>3</th>\n",
       "      <td>Container image \"gcr.io/k8s-prow/entrypoint:v2...</td>\n",
       "      <td>29</td>\n",
       "    </tr>\n",
       "    <tr>\n",
       "      <th>4</th>\n",
       "      <td>Container image \"gcr.io/k8s-prow/sidecar:v2021...</td>\n",
       "      <td>29</td>\n",
       "    </tr>\n",
       "    <tr>\n",
       "      <th>...</th>\n",
       "      <td>...</td>\n",
       "      <td>...</td>\n",
       "    </tr>\n",
       "    <tr>\n",
       "      <th>151</th>\n",
       "      <td>(combined from similar events): Failed to calc...</td>\n",
       "      <td>1</td>\n",
       "    </tr>\n",
       "    <tr>\n",
       "      <th>152</th>\n",
       "      <td>Add eth0 [10.131.37.32/23]</td>\n",
       "      <td>1</td>\n",
       "    </tr>\n",
       "    <tr>\n",
       "      <th>153</th>\n",
       "      <td>Successfully pulled image \"registry.ci.openshi...</td>\n",
       "      <td>1</td>\n",
       "    </tr>\n",
       "    <tr>\n",
       "      <th>154</th>\n",
       "      <td>Add eth0 [10.129.9.17/23]</td>\n",
       "      <td>1</td>\n",
       "    </tr>\n",
       "    <tr>\n",
       "      <th>155</th>\n",
       "      <td>Successfully assigned ci-op-ft9klqc6/e2e-gcp-u...</td>\n",
       "      <td>1</td>\n",
       "    </tr>\n",
       "  </tbody>\n",
       "</table>\n",
       "<p>156 rows × 2 columns</p>\n",
       "</div>"
      ],
      "text/plain": [
       "                                                 index  message\n",
       "0                            Started container sidecar       29\n",
       "1                            Created container sidecar       29\n",
       "2                   Created container place-entrypoint       29\n",
       "3    Container image \"gcr.io/k8s-prow/entrypoint:v2...       29\n",
       "4    Container image \"gcr.io/k8s-prow/sidecar:v2021...       29\n",
       "..                                                 ...      ...\n",
       "151  (combined from similar events): Failed to calc...        1\n",
       "152                         Add eth0 [10.131.37.32/23]        1\n",
       "153  Successfully pulled image \"registry.ci.openshi...        1\n",
       "154                          Add eth0 [10.129.9.17/23]        1\n",
       "155  Successfully assigned ci-op-ft9klqc6/e2e-gcp-u...        1\n",
       "\n",
       "[156 rows x 2 columns]"
      ]
     },
     "execution_count": 28,
     "metadata": {},
     "output_type": "execute_result"
    }
   ],
   "source": [
    "messages_df[\"message\"].value_counts().reset_index()"
   ]
  },
  {
   "cell_type": "markdown",
   "id": "expected-desire",
   "metadata": {},
   "source": [
    "In the build data, we saw that about 96.5% builds have the events.json file. We further analyzed all the events that happened for a particular build and found the frequencies of the messages. We can repeat the process for all the other builds and find most common messages and perform further analysis."
   ]
  },
  {
   "cell_type": "markdown",
   "id": "opened-madonna",
   "metadata": {},
   "source": [
    "## Conclusion\n",
    "\n",
    "In this notebook, we saw how to programmatically access the archives, build logs, and the events json. Most of the files in root directory were the same but we saw a higher variability in the contents of the artifcats directory. For the logs, we saw a high variability in the number of lines indicating that we need a more thorough EDA. The events.json lead to some neat messages that can be explored furthur for a larger dataset."
   ]
  }
 ],
 "metadata": {
  "kernelspec": {
   "display_name": "Python 3",
   "language": "python",
   "name": "python3"
  },
  "language_info": {
   "codemirror_mode": {
    "name": "ipython",
    "version": 3
   },
   "file_extension": ".py",
   "mimetype": "text/x-python",
   "name": "python",
   "nbconvert_exporter": "python",
   "pygments_lexer": "ipython3",
   "version": "3.8.3"
  }
 },
 "nbformat": 4,
 "nbformat_minor": 5
}
