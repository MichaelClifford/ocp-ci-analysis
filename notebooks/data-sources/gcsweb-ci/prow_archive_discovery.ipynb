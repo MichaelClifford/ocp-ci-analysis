{
 "cells": [
  {
   "cell_type": "markdown",
   "id": "pressed-charlotte",
   "metadata": {},
   "source": [
    "# Prow Logs and GCS Data"
   ]
  },
  {
   "cell_type": "code",
   "execution_count": 1,
   "id": "empty-complexity",
   "metadata": {},
   "outputs": [],
   "source": [
    "import gzip\n",
    "import json\n",
    "import requests\n",
    "import pandas as pd\n",
    "from bs4 import BeautifulSoup"
   ]
  },
  {
   "cell_type": "markdown",
   "id": "bottom-comment",
   "metadata": {},
   "source": [
    "### What do we have access to as data scientists when digging into the build artifacts?\n",
    "\n",
    "In this notebook we want to determine how to interact with the availble data on GCS. We will provide some EDA and perfrom 2 different tasks.\n",
    "\n",
    "\n",
    "1. Compare the different log files present throughout the archives and quantify how complete and compareable our log dataset is.\n",
    "1. Download a small sample dataset of events and build logs to perform some EDA on.  \n"
   ]
  },
  {
   "cell_type": "code",
   "execution_count": 2,
   "id": "qualified-present",
   "metadata": {},
   "outputs": [],
   "source": [
    "# Load test file to access our record of job names\n",
    "with gzip.open(\"../../../data/raw/testgrid_810.json.gz\", \"rb\") as read_file:\n",
    "    testgrid_data = json.load(read_file)"
   ]
  },
  {
   "cell_type": "markdown",
   "id": "accepted-variation",
   "metadata": {},
   "source": [
    "### Example to access a single prow artifacts page\n",
    "\n",
    "Let's make sure we understand how this works, and focus on a single job first."
   ]
  },
  {
   "cell_type": "code",
   "execution_count": 3,
   "id": "attractive-north",
   "metadata": {},
   "outputs": [],
   "source": [
    "tab = '\"redhat-openshift-ocp-release-4.6-informing\"'\n",
    "grid = \"periodic-ci-openshift-release-master-ci-4.6-upgrade-from-stable-4.5-e2e-gcp-upgrade\""
   ]
  },
  {
   "cell_type": "code",
   "execution_count": 4,
   "id": "imported-reality",
   "metadata": {},
   "outputs": [],
   "source": [
    "response = requests.get(\n",
    "    f\"https://gcsweb-ci.apps.ci.l2s4.p1.openshiftapps.com/gcs/origin-ci-test/logs/{grid}\"\n",
    ")\n",
    "soup = BeautifulSoup(response.text, \"html.parser\")\n",
    "list_of_builds = [x.get_text()[1:-1] for x in soup.find_all(\"a\")][1:-1]"
   ]
  },
  {
   "cell_type": "code",
   "execution_count": 5,
   "id": "bulgarian-fraud",
   "metadata": {},
   "outputs": [
    {
     "data": {
      "text/plain": [
       "'https://gcsweb-ci.apps.ci.l2s4.p1.openshiftapps.com/gcs/origin-ci-test/logs/periodic-ci-openshift-release-master-ci-4.6-upgrade-from-stable-4.5-e2e-gcp-upgrade/1364869749170769920'"
      ]
     },
     "execution_count": 5,
     "metadata": {},
     "output_type": "execute_result"
    }
   ],
   "source": [
    "response = requests.get(\n",
    "    f\"https://gcsweb-ci.apps.ci.l2s4.p1.openshiftapps.com/gcs/origin-ci-test/logs/{grid}/{list_of_builds[1]}\"\n",
    ")\n",
    "response.url"
   ]
  },
  {
   "cell_type": "code",
   "execution_count": 6,
   "id": "loving-coffee",
   "metadata": {},
   "outputs": [],
   "source": [
    "soup = BeautifulSoup(response.text, \"html.parser\")"
   ]
  },
  {
   "cell_type": "code",
   "execution_count": 7,
   "id": "accessory-japanese",
   "metadata": {},
   "outputs": [
    {
     "data": {
      "text/plain": [
       "[' ..',\n",
       " ' artifacts/',\n",
       " ' build-log.txt',\n",
       " ' finished.json',\n",
       " ' podinfo.json',\n",
       " ' prowjob.json',\n",
       " ' started.json']"
      ]
     },
     "execution_count": 7,
     "metadata": {},
     "output_type": "execute_result"
    }
   ],
   "source": [
    "[x.get_text() for x in soup.find_all(\"a\")]"
   ]
  },
  {
   "cell_type": "markdown",
   "id": "binding-operation",
   "metadata": {},
   "source": [
    "Great, we can now programmatically access the archives. Now, lets walk through all of the job archives for a single job and create a list of what they have on the first depth level of thier directory.  "
   ]
  },
  {
   "cell_type": "code",
   "execution_count": 8,
   "id": "confidential-plain",
   "metadata": {},
   "outputs": [],
   "source": [
    "build_data = {}\n",
    "\n",
    "for build in list_of_builds:\n",
    "    response = requests.get(\n",
    "        f\"https://gcsweb-ci.apps.ci.l2s4.p1.openshiftapps.com/gcs/origin-ci-test/logs/{grid}/{build}\"\n",
    "    )\n",
    "    soup = BeautifulSoup(response.text, \"html.parser\")\n",
    "    artifacts = [x.get_text() for x in soup.find_all(\"a\")]\n",
    "    build_data[build] = artifacts"
   ]
  },
  {
   "cell_type": "code",
   "execution_count": 9,
   "id": "alert-adult",
   "metadata": {},
   "outputs": [],
   "source": [
    "builds_info = pd.Series({k: len(v) for (k, v) in build_data.items()})"
   ]
  },
  {
   "cell_type": "code",
   "execution_count": 10,
   "id": "incident-nature",
   "metadata": {},
   "outputs": [
    {
     "data": {
      "text/plain": [
       "7    139\n",
       "6      3\n",
       "5      1\n",
       "dtype: int64"
      ]
     },
     "execution_count": 10,
     "metadata": {},
     "output_type": "execute_result"
    }
   ],
   "source": [
    "builds_info.value_counts()"
   ]
  },
  {
   "cell_type": "code",
   "execution_count": 11,
   "id": "exciting-pledge",
   "metadata": {},
   "outputs": [
    {
     "data": {
      "text/plain": [
       " ..  artifacts/  build-log.txt  finished.json  podinfo.json  prowjob.json  started.json    139\n",
       " ..  artifacts/  build-log.txt  finished.json  prowjob.json  started.json                    2\n",
       " ..  build-log.txt  finished.json  prowjob.json  started.json                                1\n",
       " ..  build-log.txt  finished.json  podinfo.json  prowjob.json  started.json                  1\n",
       "dtype: int64"
      ]
     },
     "execution_count": 11,
     "metadata": {},
     "output_type": "execute_result"
    }
   ],
   "source": [
    "pd.Series(build_data).apply(\" \".join).value_counts()"
   ]
  },
  {
   "cell_type": "code",
   "execution_count": 12,
   "id": "grand-occasion",
   "metadata": {},
   "outputs": [
    {
     "data": {
      "text/plain": [
       "7    0.972028\n",
       "6    0.020979\n",
       "5    0.006993\n",
       "dtype: float64"
      ]
     },
     "execution_count": 12,
     "metadata": {},
     "output_type": "execute_result"
    }
   ],
   "source": [
    "builds_info.value_counts() / len(builds_info)"
   ]
  },
  {
   "cell_type": "markdown",
   "id": "outdoor-culture",
   "metadata": {},
   "source": [
    "97% percent of our records for this job include appear to be complete and include the 'artifacts/' subdirectory, lets dig in and see what they contain. "
   ]
  },
  {
   "cell_type": "code",
   "execution_count": 13,
   "id": "discrete-reggae",
   "metadata": {},
   "outputs": [],
   "source": [
    "build_data = {}\n",
    "\n",
    "for build in list_of_builds:\n",
    "    response = requests.get(\n",
    "        f\"https://gcsweb-ci.apps.ci.l2s4.p1.openshiftapps.com/gcs/origin-ci-test/logs/{grid}/{build}/artifacts\"\n",
    "    )\n",
    "    soup = BeautifulSoup(response.text, \"html.parser\")\n",
    "    artifacts = [x.get_text() for x in soup.find_all(\"a\")]\n",
    "    build_data[build] = artifacts"
   ]
  },
  {
   "cell_type": "code",
   "execution_count": 14,
   "id": "signal-proposition",
   "metadata": {},
   "outputs": [
    {
     "data": {
      "text/plain": [
       "6    92\n",
       "5    36\n",
       "7     8\n",
       "1     2\n",
       "3     2\n",
       "4     2\n",
       "2     1\n",
       "dtype: int64"
      ]
     },
     "execution_count": 14,
     "metadata": {},
     "output_type": "execute_result"
    }
   ],
   "source": [
    "artifact_info = pd.Series({k: len(v) for (k, v) in build_data.items()})\n",
    "artifact_info.value_counts()"
   ]
  },
  {
   "cell_type": "code",
   "execution_count": 15,
   "id": "happy-array",
   "metadata": {},
   "outputs": [
    {
     "data": {
      "text/plain": [
       "6    0.643357\n",
       "5    0.251748\n",
       "7    0.055944\n",
       "1    0.013986\n",
       "3    0.013986\n",
       "4    0.013986\n",
       "2    0.006993\n",
       "dtype: float64"
      ]
     },
     "execution_count": 15,
     "metadata": {},
     "output_type": "execute_result"
    }
   ],
   "source": [
    "artifact_info.value_counts() / len(artifact_info)"
   ]
  },
  {
   "cell_type": "code",
   "execution_count": 16,
   "id": "quick-limitation",
   "metadata": {},
   "outputs": [
    {
     "data": {
      "text/plain": [
       " ..  build-resources/  e2e-gcp-upgrade/  release/  junit_operator.xml  metadata.json                     92\n",
       " ..  build-resources/  e2e-gcp-upgrade/  junit_operator.xml  metadata.json                               27\n",
       " ..  build-resources/  release/  junit_operator.xml  metadata.json                                        9\n",
       " ..  build-resources/  e2e-gcp-upgrade/  release/  ci-operator.log  junit_operator.xml  metadata.json     8\n",
       " ..                                                                                                       2\n",
       " ..  build-resources/  junit_operator.xml  metadata.json                                                  2\n",
       " ..  junit_job.xml  metadata.json                                                                         1\n",
       " ..  e2e-gcp-upgrade/  release/                                                                           1\n",
       " ..  junit_job.xml                                                                                        1\n",
       "dtype: int64"
      ]
     },
     "execution_count": 16,
     "metadata": {},
     "output_type": "execute_result"
    }
   ],
   "source": [
    "pd.Series(build_data).apply(\" \".join).value_counts()"
   ]
  },
  {
   "cell_type": "markdown",
   "id": "formal-poultry",
   "metadata": {},
   "source": [
    "We can see that once we get down into the artifacts there is a fair bit less uniformity to the data available to us. And this is all within a single job! We will look into it next, but my assumptions is that this issue gets worse when comparing available artifacts across jobs. \n",
    "\n",
    "This will make it somewhat difficult to use these sets of documents as a whole to compare different CI behaviour. At this point, it might make sense to consider looking only at the same document (log) across job when availble. \n",
    "\n",
    "In the next section we are going to walkthrough how to access and parse the build-log as well as the events json both to download a small testing dataset our working directly with the data in memory.  "
   ]
  },
  {
   "cell_type": "markdown",
   "id": "advisory-empire",
   "metadata": {},
   "source": [
    "## Collecting build logs"
   ]
  },
  {
   "cell_type": "code",
   "execution_count": 17,
   "id": "flexible-carroll",
   "metadata": {},
   "outputs": [],
   "source": [
    "build_log_data = {}\n",
    "for build in list_of_builds:\n",
    "    response = requests.get(\n",
    "        f\"https://gcsweb-ci.apps.ci.l2s4.p1.openshiftapps.com/gcs/origin-ci-test/logs/{grid}/{build}/build-log.txt\"\n",
    "    )\n",
    "    soup = BeautifulSoup(response.text, \"html.parser\")\n",
    "    build_log_data[build] = soup.get_text()"
   ]
  },
  {
   "cell_type": "code",
   "execution_count": 18,
   "id": "completed-brush",
   "metadata": {},
   "outputs": [],
   "source": [
    "def not_exists(x):\n",
    "    \"\"\"\n",
    "    Checks if the data is invalid.\n",
    "    \"\"\"\n",
    "    return x.startswith(\"\\n\\n\\n\\n\\n\\n\\nGCS browser\")\n",
    "\n",
    "\n",
    "def get_counts(x):\n",
    "    \"\"\"\n",
    "    Gets counts for chars, words, lines for a log.\n",
    "    \"\"\"\n",
    "    if not not_exists(x):\n",
    "        chars = len(x)\n",
    "        words = len(x.split())\n",
    "        lines = x.count(\"\\n\") + 1\n",
    "        return chars, words, lines\n",
    "    else:\n",
    "        print(\"no logs\")\n",
    "        return 0, 0, 0"
   ]
  },
  {
   "cell_type": "code",
   "execution_count": 19,
   "id": "functional-admission",
   "metadata": {},
   "outputs": [
    {
     "data": {
      "text/html": [
       "<div>\n",
       "<style scoped>\n",
       "    .dataframe tbody tr th:only-of-type {\n",
       "        vertical-align: middle;\n",
       "    }\n",
       "\n",
       "    .dataframe tbody tr th {\n",
       "        vertical-align: top;\n",
       "    }\n",
       "\n",
       "    .dataframe thead th {\n",
       "        text-align: right;\n",
       "    }\n",
       "</style>\n",
       "<table border=\"1\" class=\"dataframe\">\n",
       "  <thead>\n",
       "    <tr style=\"text-align: right;\">\n",
       "      <th></th>\n",
       "      <th>build_log_id</th>\n",
       "      <th>chars</th>\n",
       "      <th>words</th>\n",
       "      <th>lines</th>\n",
       "    </tr>\n",
       "  </thead>\n",
       "  <tbody>\n",
       "    <tr>\n",
       "      <th>0</th>\n",
       "      <td>1364778930069835776</td>\n",
       "      <td>517</td>\n",
       "      <td>51</td>\n",
       "      <td>5</td>\n",
       "    </tr>\n",
       "    <tr>\n",
       "      <th>1</th>\n",
       "      <td>1364869749170769920</td>\n",
       "      <td>10805</td>\n",
       "      <td>919</td>\n",
       "      <td>111</td>\n",
       "    </tr>\n",
       "    <tr>\n",
       "      <th>2</th>\n",
       "      <td>1364960659313266688</td>\n",
       "      <td>10807</td>\n",
       "      <td>919</td>\n",
       "      <td>111</td>\n",
       "    </tr>\n",
       "    <tr>\n",
       "      <th>3</th>\n",
       "      <td>1365051265100288000</td>\n",
       "      <td>15758</td>\n",
       "      <td>1316</td>\n",
       "      <td>184</td>\n",
       "    </tr>\n",
       "    <tr>\n",
       "      <th>4</th>\n",
       "      <td>1365142142841786368</td>\n",
       "      <td>10804</td>\n",
       "      <td>919</td>\n",
       "      <td>111</td>\n",
       "    </tr>\n",
       "    <tr>\n",
       "      <th>...</th>\n",
       "      <td>...</td>\n",
       "      <td>...</td>\n",
       "      <td>...</td>\n",
       "      <td>...</td>\n",
       "    </tr>\n",
       "    <tr>\n",
       "      <th>138</th>\n",
       "      <td>1377248782869073920</td>\n",
       "      <td>11416</td>\n",
       "      <td>926</td>\n",
       "      <td>113</td>\n",
       "    </tr>\n",
       "    <tr>\n",
       "      <th>139</th>\n",
       "      <td>1377339577248780288</td>\n",
       "      <td>13933</td>\n",
       "      <td>926</td>\n",
       "      <td>113</td>\n",
       "    </tr>\n",
       "    <tr>\n",
       "      <th>140</th>\n",
       "      <td>1377430351407747072</td>\n",
       "      <td>13933</td>\n",
       "      <td>926</td>\n",
       "      <td>113</td>\n",
       "    </tr>\n",
       "    <tr>\n",
       "      <th>141</th>\n",
       "      <td>1377521126032281600</td>\n",
       "      <td>13932</td>\n",
       "      <td>926</td>\n",
       "      <td>113</td>\n",
       "    </tr>\n",
       "    <tr>\n",
       "      <th>142</th>\n",
       "      <td>1377611908198174720</td>\n",
       "      <td>13932</td>\n",
       "      <td>926</td>\n",
       "      <td>113</td>\n",
       "    </tr>\n",
       "  </tbody>\n",
       "</table>\n",
       "<p>143 rows × 4 columns</p>\n",
       "</div>"
      ],
      "text/plain": [
       "            build_log_id  chars  words  lines\n",
       "0    1364778930069835776    517     51      5\n",
       "1    1364869749170769920  10805    919    111\n",
       "2    1364960659313266688  10807    919    111\n",
       "3    1365051265100288000  15758   1316    184\n",
       "4    1365142142841786368  10804    919    111\n",
       "..                   ...    ...    ...    ...\n",
       "138  1377248782869073920  11416    926    113\n",
       "139  1377339577248780288  13933    926    113\n",
       "140  1377430351407747072  13933    926    113\n",
       "141  1377521126032281600  13932    926    113\n",
       "142  1377611908198174720  13932    926    113\n",
       "\n",
       "[143 rows x 4 columns]"
      ]
     },
     "execution_count": 19,
     "metadata": {},
     "output_type": "execute_result"
    }
   ],
   "source": [
    "## Create a dataframe with char, words, and lines\n",
    "## count for the logs\n",
    "data = []\n",
    "for key, value in build_log_data.items():\n",
    "    chars, words, lines = get_counts(value)\n",
    "    data.append([key, chars, words, lines])\n",
    "\n",
    "df = pd.DataFrame(data=data, columns=[\"build_log_id\", \"chars\", \"words\", \"lines\"])\n",
    "df"
   ]
  },
  {
   "cell_type": "markdown",
   "id": "military-vintage",
   "metadata": {},
   "source": [
    "#### See the stats for chars, words, lines"
   ]
  },
  {
   "cell_type": "code",
   "execution_count": 20,
   "id": "julian-istanbul",
   "metadata": {},
   "outputs": [
    {
     "data": {
      "text/plain": [
       "count    1.430000e+02\n",
       "mean     1.397021e+05\n",
       "std      7.443312e+05\n",
       "min      9.200000e+01\n",
       "25%      1.093800e+04\n",
       "50%      1.095000e+04\n",
       "75%      1.611400e+04\n",
       "max      6.662598e+06\n",
       "Name: chars, dtype: float64"
      ]
     },
     "execution_count": 20,
     "metadata": {},
     "output_type": "execute_result"
    }
   ],
   "source": [
    "df[\"chars\"].describe()"
   ]
  },
  {
   "cell_type": "code",
   "execution_count": 21,
   "id": "altered-interval",
   "metadata": {},
   "outputs": [
    {
     "data": {
      "text/plain": [
       "count       143.000000\n",
       "mean      10101.440559\n",
       "std       54292.735249\n",
       "min          11.000000\n",
       "25%         925.000000\n",
       "50%         926.000000\n",
       "75%        1389.500000\n",
       "max      508960.000000\n",
       "Name: words, dtype: float64"
      ]
     },
     "execution_count": 21,
     "metadata": {},
     "output_type": "execute_result"
    }
   ],
   "source": [
    "df[\"words\"].describe()"
   ]
  },
  {
   "cell_type": "code",
   "execution_count": 22,
   "id": "respiratory-tribute",
   "metadata": {},
   "outputs": [
    {
     "data": {
      "text/plain": [
       "count      143.000000\n",
       "mean       649.706294\n",
       "std       2895.837016\n",
       "min          2.000000\n",
       "25%        112.000000\n",
       "50%        112.000000\n",
       "75%        171.000000\n",
       "max      21291.000000\n",
       "Name: lines, dtype: float64"
      ]
     },
     "execution_count": 22,
     "metadata": {},
     "output_type": "execute_result"
    }
   ],
   "source": [
    "df[\"lines\"].describe()"
   ]
  },
  {
   "cell_type": "markdown",
   "id": "neural-generator",
   "metadata": {},
   "source": [
    "* From the initial analysis, we see that we have log files with 2 lines to ~21,000 lines with a mean of 649 lines. This suggests high variability. The next few things to look at would be similarity betwen the log files, performing word analysis, templating, and clustering."
   ]
  },
  {
   "cell_type": "markdown",
   "id": "naval-gamma",
   "metadata": {},
   "source": [
    "## Collect the events data"
   ]
  },
  {
   "cell_type": "code",
   "execution_count": 23,
   "id": "unnecessary-liquid",
   "metadata": {},
   "outputs": [],
   "source": [
    "build_events_data = {}\n",
    "for build in list_of_builds:\n",
    "    response = requests.get(\n",
    "        f\"https://gcsweb-ci.apps.ci.l2s4.p1.openshiftapps.com/gcs/origin-ci-test/\\\n",
    "        logs/{grid}/{build}/artifacts/build-resources/events.json\"\n",
    "    )\n",
    "    soup = BeautifulSoup(response.text, \"html.parser\")\n",
    "    soup_text = soup.get_text()\n",
    "    if not not_exists(soup_text):\n",
    "        build_events_data[build] = json.loads(soup_text)\n",
    "    else:\n",
    "        build_events_data[build] = {}"
   ]
  },
  {
   "cell_type": "code",
   "execution_count": 24,
   "id": "logical-blake",
   "metadata": {},
   "outputs": [
    {
     "data": {
      "text/plain": [
       "96.5034965034965"
      ]
     },
     "execution_count": 24,
     "metadata": {},
     "output_type": "execute_result"
    }
   ],
   "source": [
    "## Percentage of builds that have the events.json file\n",
    "count = 0\n",
    "for key, value in build_events_data.items():\n",
    "    if value:\n",
    "        count += 1\n",
    "count * 100 / len(build_events_data)"
   ]
  },
  {
   "cell_type": "code",
   "execution_count": 25,
   "id": "alike-stuart",
   "metadata": {},
   "outputs": [
    {
     "data": {
      "text/html": [
       "<div>\n",
       "<style scoped>\n",
       "    .dataframe tbody tr th:only-of-type {\n",
       "        vertical-align: middle;\n",
       "    }\n",
       "\n",
       "    .dataframe tbody tr th {\n",
       "        vertical-align: top;\n",
       "    }\n",
       "\n",
       "    .dataframe thead th {\n",
       "        text-align: right;\n",
       "    }\n",
       "</style>\n",
       "<table border=\"1\" class=\"dataframe\">\n",
       "  <thead>\n",
       "    <tr style=\"text-align: right;\">\n",
       "      <th></th>\n",
       "      <th>UID</th>\n",
       "      <th>message</th>\n",
       "    </tr>\n",
       "  </thead>\n",
       "  <tbody>\n",
       "    <tr>\n",
       "      <th>0</th>\n",
       "      <td>504b881c-9e97-46a0-b206-765c9973e1d3</td>\n",
       "      <td>Running job periodic-ci-openshift-release-mast...</td>\n",
       "    </tr>\n",
       "    <tr>\n",
       "      <th>1</th>\n",
       "      <td>3a92467e-993e-43a1-8eee-24ba7a22508f</td>\n",
       "      <td>Running job periodic-ci-openshift-release-mast...</td>\n",
       "    </tr>\n",
       "    <tr>\n",
       "      <th>2</th>\n",
       "      <td>ed40875c-b182-4164-b730-a3754ed94124</td>\n",
       "      <td>Running job periodic-ci-openshift-release-mast...</td>\n",
       "    </tr>\n",
       "    <tr>\n",
       "      <th>3</th>\n",
       "      <td>b8c5b026-936e-4f28-a0de-62051ff378d8</td>\n",
       "      <td>Running job periodic-ci-openshift-release-mast...</td>\n",
       "    </tr>\n",
       "    <tr>\n",
       "      <th>4</th>\n",
       "      <td>b1b8265a-d87d-430d-b38e-c10c7f3fb91c</td>\n",
       "      <td>No matching pods found</td>\n",
       "    </tr>\n",
       "    <tr>\n",
       "      <th>...</th>\n",
       "      <td>...</td>\n",
       "      <td>...</td>\n",
       "    </tr>\n",
       "    <tr>\n",
       "      <th>477</th>\n",
       "      <td>db97f7b5-5fb4-4e68-aa82-cd9c120b9c8d</td>\n",
       "      <td>Container image \"gcr.io/k8s-prow/sidecar:v2021...</td>\n",
       "    </tr>\n",
       "    <tr>\n",
       "      <th>478</th>\n",
       "      <td>947a5c3f-f318-42d8-88c5-133f9783e94d</td>\n",
       "      <td>Created container sidecar</td>\n",
       "    </tr>\n",
       "    <tr>\n",
       "      <th>479</th>\n",
       "      <td>e94e0988-c2ea-4045-bb84-251410018d94</td>\n",
       "      <td>Started container sidecar</td>\n",
       "    </tr>\n",
       "    <tr>\n",
       "      <th>480</th>\n",
       "      <td>00bef865-7965-4b65-b39a-9993347c5942</td>\n",
       "      <td>Back-off pulling image \"image-registry.openshi...</td>\n",
       "    </tr>\n",
       "    <tr>\n",
       "      <th>481</th>\n",
       "      <td>a85f8fbd-9cac-4e47-a5d4-5fbe145d4050</td>\n",
       "      <td>Error: ImagePullBackOff</td>\n",
       "    </tr>\n",
       "  </tbody>\n",
       "</table>\n",
       "<p>482 rows × 2 columns</p>\n",
       "</div>"
      ],
      "text/plain": [
       "                                      UID  \\\n",
       "0    504b881c-9e97-46a0-b206-765c9973e1d3   \n",
       "1    3a92467e-993e-43a1-8eee-24ba7a22508f   \n",
       "2    ed40875c-b182-4164-b730-a3754ed94124   \n",
       "3    b8c5b026-936e-4f28-a0de-62051ff378d8   \n",
       "4    b1b8265a-d87d-430d-b38e-c10c7f3fb91c   \n",
       "..                                    ...   \n",
       "477  db97f7b5-5fb4-4e68-aa82-cd9c120b9c8d   \n",
       "478  947a5c3f-f318-42d8-88c5-133f9783e94d   \n",
       "479  e94e0988-c2ea-4045-bb84-251410018d94   \n",
       "480  00bef865-7965-4b65-b39a-9993347c5942   \n",
       "481  a85f8fbd-9cac-4e47-a5d4-5fbe145d4050   \n",
       "\n",
       "                                               message  \n",
       "0    Running job periodic-ci-openshift-release-mast...  \n",
       "1    Running job periodic-ci-openshift-release-mast...  \n",
       "2    Running job periodic-ci-openshift-release-mast...  \n",
       "3    Running job periodic-ci-openshift-release-mast...  \n",
       "4                               No matching pods found  \n",
       "..                                                 ...  \n",
       "477  Container image \"gcr.io/k8s-prow/sidecar:v2021...  \n",
       "478                          Created container sidecar  \n",
       "479                          Started container sidecar  \n",
       "480  Back-off pulling image \"image-registry.openshi...  \n",
       "481                            Error: ImagePullBackOff  \n",
       "\n",
       "[482 rows x 2 columns]"
      ]
     },
     "execution_count": 25,
     "metadata": {},
     "output_type": "execute_result"
    }
   ],
   "source": [
    "# Analyzing the messages of a single build\n",
    "messages = [\n",
    "    (i[\"metadata\"][\"uid\"], i[\"message\"])\n",
    "    for i in build_events_data[\"1364869749170769920\"][\"items\"]\n",
    "]\n",
    "messages_df = pd.DataFrame(messages, columns=[\"UID\", \"message\"])\n",
    "messages_df"
   ]
  },
  {
   "cell_type": "code",
   "execution_count": 26,
   "id": "joint-roulette",
   "metadata": {},
   "outputs": [
    {
     "data": {
      "text/plain": [
       "count                                                   482\n",
       "unique                                                  156\n",
       "top       Container image \"gcr.io/k8s-prow/sidecar:v2021...\n",
       "freq                                                     29\n",
       "Name: message, dtype: object"
      ]
     },
     "execution_count": 26,
     "metadata": {},
     "output_type": "execute_result"
    }
   ],
   "source": [
    "messages_df[\"message\"].describe()"
   ]
  },
  {
   "cell_type": "code",
   "execution_count": 27,
   "id": "compound-intelligence",
   "metadata": {},
   "outputs": [
    {
     "data": {
      "text/html": [
       "<div>\n",
       "<style scoped>\n",
       "    .dataframe tbody tr th:only-of-type {\n",
       "        vertical-align: middle;\n",
       "    }\n",
       "\n",
       "    .dataframe tbody tr th {\n",
       "        vertical-align: top;\n",
       "    }\n",
       "\n",
       "    .dataframe thead th {\n",
       "        text-align: right;\n",
       "    }\n",
       "</style>\n",
       "<table border=\"1\" class=\"dataframe\">\n",
       "  <thead>\n",
       "    <tr style=\"text-align: right;\">\n",
       "      <th></th>\n",
       "      <th>index</th>\n",
       "      <th>message</th>\n",
       "    </tr>\n",
       "  </thead>\n",
       "  <tbody>\n",
       "    <tr>\n",
       "      <th>0</th>\n",
       "      <td>Container image \"gcr.io/k8s-prow/sidecar:v2021...</td>\n",
       "      <td>29</td>\n",
       "    </tr>\n",
       "    <tr>\n",
       "      <th>1</th>\n",
       "      <td>Container image \"gcr.io/k8s-prow/entrypoint:v2...</td>\n",
       "      <td>29</td>\n",
       "    </tr>\n",
       "    <tr>\n",
       "      <th>2</th>\n",
       "      <td>Created container place-entrypoint</td>\n",
       "      <td>29</td>\n",
       "    </tr>\n",
       "    <tr>\n",
       "      <th>3</th>\n",
       "      <td>Started container sidecar</td>\n",
       "      <td>29</td>\n",
       "    </tr>\n",
       "    <tr>\n",
       "      <th>4</th>\n",
       "      <td>Created container sidecar</td>\n",
       "      <td>29</td>\n",
       "    </tr>\n",
       "    <tr>\n",
       "      <th>...</th>\n",
       "      <td>...</td>\n",
       "      <td>...</td>\n",
       "    </tr>\n",
       "    <tr>\n",
       "      <th>151</th>\n",
       "      <td>Successfully pulled image \"registry.ci.openshi...</td>\n",
       "      <td>1</td>\n",
       "    </tr>\n",
       "    <tr>\n",
       "      <th>152</th>\n",
       "      <td>Add eth0 [10.128.34.73/23]</td>\n",
       "      <td>1</td>\n",
       "    </tr>\n",
       "    <tr>\n",
       "      <th>153</th>\n",
       "      <td>Successfully assigned ci-op-ft9klqc6/e2e-gcp-u...</td>\n",
       "      <td>1</td>\n",
       "    </tr>\n",
       "    <tr>\n",
       "      <th>154</th>\n",
       "      <td>Failed to pull image \"image-registry.openshift...</td>\n",
       "      <td>1</td>\n",
       "    </tr>\n",
       "    <tr>\n",
       "      <th>155</th>\n",
       "      <td>Successfully pulled image \"image-registry.open...</td>\n",
       "      <td>1</td>\n",
       "    </tr>\n",
       "  </tbody>\n",
       "</table>\n",
       "<p>156 rows × 2 columns</p>\n",
       "</div>"
      ],
      "text/plain": [
       "                                                 index  message\n",
       "0    Container image \"gcr.io/k8s-prow/sidecar:v2021...       29\n",
       "1    Container image \"gcr.io/k8s-prow/entrypoint:v2...       29\n",
       "2                   Created container place-entrypoint       29\n",
       "3                            Started container sidecar       29\n",
       "4                            Created container sidecar       29\n",
       "..                                                 ...      ...\n",
       "151  Successfully pulled image \"registry.ci.openshi...        1\n",
       "152                         Add eth0 [10.128.34.73/23]        1\n",
       "153  Successfully assigned ci-op-ft9klqc6/e2e-gcp-u...        1\n",
       "154  Failed to pull image \"image-registry.openshift...        1\n",
       "155  Successfully pulled image \"image-registry.open...        1\n",
       "\n",
       "[156 rows x 2 columns]"
      ]
     },
     "execution_count": 27,
     "metadata": {},
     "output_type": "execute_result"
    }
   ],
   "source": [
    "messages_df[\"message\"].value_counts().reset_index()"
   ]
  },
  {
   "cell_type": "markdown",
   "id": "religious-barrel",
   "metadata": {},
   "source": [
    "In the build data, we saw that about 96.5% builds have the events.json file. We further analyzed all the events that happened for a particular build and found the frequencies of the messages. We can repeat the process for all the other builds and find most common messages and perform further analysis."
   ]
  },
  {
   "cell_type": "markdown",
   "id": "hourly-objective",
   "metadata": {},
   "source": [
    "## Conclusion\n",
    "\n",
    "In this notebook, we saw how to programmatically access the archives, build logs, and the events json. Most of the files in root directory were the same but we saw a higher variability in the contents of the artifcats directory. For the logs, we saw a high variability in the number of lines indicating that we need a more thorough EDA. The events.json lead to some neat messages that can be explored furthur for a larger dataset."
   ]
  }
 ],
 "metadata": {
  "kernelspec": {
   "display_name": "Python 3",
   "language": "python",
   "name": "python3"
  },
  "language_info": {
   "codemirror_mode": {
    "name": "ipython",
    "version": 3
   },
   "file_extension": ".py",
   "mimetype": "text/x-python",
   "name": "python",
   "nbconvert_exporter": "python",
   "pygments_lexer": "ipython3",
   "version": "3.8.3"
  }
 },
 "nbformat": 4,
 "nbformat_minor": 5
}
